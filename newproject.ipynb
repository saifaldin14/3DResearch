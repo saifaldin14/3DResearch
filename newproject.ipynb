{
 "cells": [
  {
   "cell_type": "markdown",
   "id": "e2f268fb",
   "metadata": {},
   "source": [
    "# Environment Setup: ModelNet & PyTorch3D\n",
    "\n",
    "This section sets up the environment for 3D point cloud robustness experiments using PyTorch3D and ModelNet.\n",
    "\n",
    "**Requirements:**\n",
    "- PyTorch (with CUDA if available)\n",
    "- PyTorch3D\n",
    "- tqdm, matplotlib, numpy, pandas, scikit-learn\n",
    "\n",
    "**Note:** PyTorch3D requires a compatible PyTorch version. See https://pytorch3d.org/docs/installation for details."
   ]
  },
  {
   "cell_type": "code",
   "execution_count": null,
   "id": "549db793",
   "metadata": {},
   "outputs": [],
   "source": [
    "# Install PyTorch3D (uncomment if not already installed)\n",
    "# For CUDA 11.7 (adjust for your CUDA version):\n",
    "# pip install torch torchvision torchaudio --index-url https://download.pytorch.org/whl/cu117\n",
    "# pip install 'git+https://github.com/facebookresearch/pytorch3d.git'\n",
    "\n",
    "# If you are on CPU-only, use:\n",
    "# pip install torch torchvision torchaudio\n",
    "# pip install 'git+https://github.com/facebookresearch/pytorch3d.git'"
   ]
  },
  {
   "cell_type": "code",
   "execution_count": 1,
   "id": "b47bcfbc",
   "metadata": {},
   "outputs": [
    {
     "name": "stdout",
     "output_type": "stream",
     "text": [
      "PyTorch3D is installed and ready.\n"
     ]
    }
   ],
   "source": [
    "import torch\n",
    "import numpy as np\n",
    "import matplotlib.pyplot as plt\n",
    "from tqdm import tqdm\n",
    "import os\n",
    "import random\n",
    "# PyTorch3D\n",
    "try:\n",
    "    import pytorch3d\n",
    "    from pytorch3d.loss import chamfer_distance\n",
    "    from pytorch3d.ops import sample_points_from_meshes\n",
    "    print(\"PyTorch3D is installed and ready.\")\n",
    "except ImportError:\n",
    "    print(\"PyTorch3D is not installed. Please follow the instructions above.\")"
   ]
  },
  {
   "cell_type": "markdown",
   "id": "5406482a",
   "metadata": {},
   "source": [
    "## Step 1: Download and Prepare ModelNet40 Data\n",
    "\n",
    "We will download the ModelNet40 dataset, extract it, and preprocess it into point clouds.\n",
    "\n",
    "- The dataset will be stored in a local directory (e.g., `./modelnet40`).\n",
    "- Each mesh will be sampled into a fixed number of points (e.g., 1024) for use in point cloud classification.\n",
    "- This step only needs to be run once."
   ]
  },
  {
   "cell_type": "code",
   "execution_count": null,
   "id": "e163dcdf",
   "metadata": {},
   "outputs": [],
   "source": [
    "import os\n",
    "import urllib.request\n",
    "import zipfile\n",
    "\n",
    "DATA_DIR = './modelnet40'\n",
    "MODELNET_URL = 'http://modelnet.cs.princeton.edu/ModelNet40.zip'\n",
    "ZIP_PATH = os.path.join(DATA_DIR, 'ModelNet40.zip')\n",
    "\n",
    "# Download ModelNet40 if not present\n",
    "if not os.path.exists(DATA_DIR):\n",
    "    os.makedirs(DATA_DIR)\n",
    "if not os.path.exists(os.path.join(DATA_DIR, 'ModelNet40')):\n",
    "    print('Downloading ModelNet40...')\n",
    "    urllib.request.urlretrieve(MODELNET_URL, ZIP_PATH)\n",
    "    print('Extracting ModelNet40...')\n",
    "    with zipfile.ZipFile(ZIP_PATH, 'r') as zip_ref:\n",
    "        zip_ref.extractall(DATA_DIR)\n",
    "    print('Done.')\n",
    "else:\n",
    "    print('ModelNet40 already downloaded and extracted.')"
   ]
  },
  {
   "cell_type": "code",
   "execution_count": null,
   "id": "e8211033",
   "metadata": {},
   "outputs": [],
   "source": []
  },
  {
   "cell_type": "code",
   "execution_count": null,
   "id": "5fa60970",
   "metadata": {},
   "outputs": [],
   "source": []
  },
  {
   "cell_type": "code",
   "execution_count": null,
   "id": "9c2aba12",
   "metadata": {},
   "outputs": [],
   "source": []
  }
 ],
 "metadata": {
  "kernelspec": {
   "display_name": "pytorch3d",
   "language": "python",
   "name": "python3"
  },
  "language_info": {
   "codemirror_mode": {
    "name": "ipython",
    "version": 3
   },
   "file_extension": ".py",
   "mimetype": "text/x-python",
   "name": "python",
   "nbconvert_exporter": "python",
   "pygments_lexer": "ipython3",
   "version": "3.12.4"
  }
 },
 "nbformat": 4,
 "nbformat_minor": 5
}
